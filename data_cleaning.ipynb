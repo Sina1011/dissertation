{
 "cells": [
  {
   "cell_type": "markdown",
   "id": "85e0b9f6-51e1-4955-bd5f-db9199c374d2",
   "metadata": {},
   "source": [
    "# Data Cleaning"
   ]
  },
  {
   "cell_type": "markdown",
   "id": "a97ed35c-51ee-4c88-8f75-7909831644e7",
   "metadata": {},
   "source": [
    "## Preparation"
   ]
  },
  {
   "cell_type": "code",
   "execution_count": 3,
   "id": "25e78aa1-87be-4388-9ed4-7e4fdeb922d7",
   "metadata": {},
   "outputs": [],
   "source": [
    "#import libraries\n",
    "import pandas as pd\n",
    "import numpy as np\n",
    "import matplotlib as plt\n",
    "import seaborn as sns\n",
    "from scipy.stats import mannwhitneyu"
   ]
  },
  {
   "cell_type": "code",
   "execution_count": 4,
   "id": "9b97365b-3d3f-4a30-8f5b-224942977e17",
   "metadata": {},
   "outputs": [],
   "source": [
    "#load dataset\n",
    "df = pd.read_csv(\"full_data.csv\")\n",
    "#define years\n",
    "df = df[(df['Year'] >= 1996) & (df['Year'] <= 2022)]"
   ]
  },
  {
   "cell_type": "code",
   "execution_count": 5,
   "id": "4878d22a-3668-4a91-ad74-07cb4a10ac48",
   "metadata": {},
   "outputs": [],
   "source": [
    "# drop no longer used columns\n",
    "df = df.drop(columns=['cc', 'ge', 'rl',\n",
    "       'rq', 'va', 'Fertility rate, total (births per woman)',\n",
    "       'Individuals using the Internet (% of population)',\n",
    "       'Life expectancy at birth, total (years)',\n",
    "       'School enrollment, primary (% gross)',\n",
    "       'External balance on goods and services (% of GDP)',\n",
    "       'Inflation, GDP deflator (annual %)',\n",
    "       'Inflation, consumer prices (annual %)',\n",
    "       'Total tax and contribution rate (% of profit)',\n",
    "       'Unemployment, total (% of total labor force) (national estimate)',\n",
    "       'Gini index']) "
   ]
  },
  {
   "cell_type": "code",
   "execution_count": 6,
   "id": "c8bce580-e872-4e02-9d0f-34345f415153",
   "metadata": {},
   "outputs": [
    {
     "data": {
      "text/plain": [
       "Index(['Year', 'Country', 'Country Code_x', 'Subregion', 'Homicide index',\n",
       "       'Homicide Ratio', 'HDI', 'Classification', 'GDP (constant 2015 US$)',\n",
       "       'Mortality rate, infant (per 1,000 live births)',\n",
       "       'Unemployment, total (% of total labor force) (modeled ILO estimate)',\n",
       "       'WGI_composite'],\n",
       "      dtype='object')"
      ]
     },
     "execution_count": 6,
     "metadata": {},
     "output_type": "execute_result"
    }
   ],
   "source": [
    "# check remaining columns\n",
    "df.columns"
   ]
  },
  {
   "cell_type": "code",
   "execution_count": 7,
   "id": "26594ceb-32da-45c3-af90-ee1da2da34ed",
   "metadata": {},
   "outputs": [
    {
     "name": "stdout",
     "output_type": "stream",
     "text": [
      "      year                             country code  \\\n",
      "597   1996                            Anguilla  AIA   \n",
      "598   1996                             Albania  ALB   \n",
      "599   1996                             Armenia  ARM   \n",
      "600   1996                 Antigua and Barbuda  ATG   \n",
      "601   1996                           Australia  AUS   \n",
      "...    ...                                 ...  ...   \n",
      "4194  2022            United States of America  USA   \n",
      "4195  2022                            Holy See  VAT   \n",
      "4196  2022    Saint Vincent and the Grenadines  VCT   \n",
      "4197  2022  Venezuela (Bolivarian Republic of)  VEN   \n",
      "4198  2022                        South Africa  ZAF   \n",
      "\n",
      "                               region  homicide_index  homicide_ratio    hdi  \\\n",
      "597   Latin America and the Caribbean             0.0        0.000000    NaN   \n",
      "598                   Southern Europe           272.0        8.380375  0.644   \n",
      "599                      Western Asia           114.0        3.476950  0.627   \n",
      "600   Latin America and the Caribbean             3.0        4.309633    NaN   \n",
      "601         Australia and New Zealand           354.0        1.933865  0.884   \n",
      "...                               ...             ...             ...    ...   \n",
      "4194                 Northern America         22243.0        6.512674  0.927   \n",
      "4195                  Southern Europe             0.0        0.000000    NaN   \n",
      "4196  Latin America and the Caribbean            42.0       41.157909  0.772   \n",
      "4197  Latin America and the Caribbean          3568.0       12.646645  0.699   \n",
      "4198               Sub-Saharan Africa         27272.0       43.720255  0.717   \n",
      "\n",
      "      hdi_class               gdp infant_mort unemployment    wgi  \n",
      "597         NaN               NaN         NaN          NaN    NaN  \n",
      "598      Medium  5175146643.27572        28.5       13.928 -0.676  \n",
      "599      Medium   3264729146.7809        32.3          9.3 -0.434  \n",
      "600         NaN  982603889.773275        12.6           ..  0.736  \n",
      "601   Very High  735134359250.411         5.6        8.509  1.640  \n",
      "...         ...               ...         ...          ...    ...  \n",
      "4194  Very High    21443388432051         5.4          NaN  1.202  \n",
      "4195        NaN               NaN         NaN          NaN    NaN  \n",
      "4196       High  897022524.154038        10.1          NaN  0.584  \n",
      "4197     Medium                ..        21.2          NaN -1.826  \n",
      "4198       High  360788046853.641        27.7       33.268  0.026  \n",
      "\n",
      "[3602 rows x 12 columns]\n"
     ]
    },
    {
     "data": {
      "text/plain": [
       "Index(['year', 'country', 'code', 'region', 'homicide_index', 'homicide_ratio',\n",
       "       'hdi', 'hdi_class', 'gdp', 'infant_mort', 'unemployment', 'wgi'],\n",
       "      dtype='object')"
      ]
     },
     "execution_count": 7,
     "metadata": {},
     "output_type": "execute_result"
    }
   ],
   "source": [
    "# rename columns to better work with\n",
    "new_names = ['year', 'country', 'code', 'region', 'homicide_index', \n",
    "             'homicide_ratio', 'hdi', 'hdi_class', 'gdp', 'infant_mort',\n",
    "             'unemployment', 'wgi']\n",
    "df.columns = new_names\n",
    "# check\n",
    "print(df)\n",
    "df.columns"
   ]
  },
  {
   "cell_type": "code",
   "execution_count": 8,
   "id": "5821499c-09a2-44c0-ad34-a4567e440741",
   "metadata": {},
   "outputs": [],
   "source": [
    "# convert some columns into numeric format\n",
    "# define explicitly numeric columns\n",
    "numeric_cols = ['homicide_index',\n",
    "       'homicide_ratio', 'hdi', 'gdp',\n",
    "       'infant_mort', 'wgi', \n",
    "       'unemployment'\n",
    "]\n",
    "\n",
    "# convert each column to numeric and forcing errors to NA\n",
    "for col in numeric_cols:\n",
    "    df[col] = pd.to_numeric(df[col], errors='coerce')\n"
   ]
  },
  {
   "cell_type": "markdown",
   "id": "d23e0d34-e41a-4127-896e-88865a646e1e",
   "metadata": {},
   "source": [
    "## Deleting high missingness rows"
   ]
  },
  {
   "cell_type": "code",
   "execution_count": 10,
   "id": "344a5cde-db60-4aa2-9921-a62649d5da99",
   "metadata": {},
   "outputs": [],
   "source": [
    "# drop empty countries (defined too differently in each dataset)\n",
    "countries_to_drop = [\n",
    "    'United Kingdom (England and Wales)',\n",
    "    'Iraq (Kurdistan Region)',\n",
    "    'United Kingdom (Scotland)',\n",
    "    'United Kingdom (Northern Ireland)',\n",
    "    'Iraq (Central Iraq)'\n",
    "]\n",
    "\n",
    "df = df[~df['country'].isin(countries_to_drop)]"
   ]
  },
  {
   "cell_type": "code",
   "execution_count": 11,
   "id": "d161f98c-90e3-481e-b22a-7232676b04bc",
   "metadata": {},
   "outputs": [],
   "source": [
    "# interpolate missing years for WGI (limit=2, both directions)\n",
    "df.loc[:, 'wgi'] = df.groupby(\"country\")['wgi'].transform(\n",
    "    lambda x: x.interpolate(limit=2, limit_direction=\"both\")\n",
    ")"
   ]
  },
  {
   "cell_type": "code",
   "execution_count": 12,
   "id": "2dd291f2-a619-40d3-be91-5cb32a167e69",
   "metadata": {},
   "outputs": [
    {
     "name": "stdout",
     "output_type": "stream",
     "text": [
      "Missing values (%):\n",
      " unemployment      24.059293\n",
      "hdi               11.602052\n",
      "hdi_class         11.602052\n",
      "infant_mort       10.433295\n",
      "wgi                6.385405\n",
      "gdp                5.672748\n",
      "year               0.000000\n",
      "country            0.000000\n",
      "code               0.000000\n",
      "region             0.000000\n",
      "homicide_index     0.000000\n",
      "homicide_ratio     0.000000\n",
      "dtype: float64\n",
      "\n",
      "=== Missing Values ===\n",
      "unemployment    844\n",
      "hdi             407\n",
      "hdi_class       407\n",
      "infant_mort     366\n",
      "wgi             224\n",
      "gdp             199\n",
      "dtype: int64\n"
     ]
    }
   ],
   "source": [
    "# check missing per variable\n",
    "missing_percent = df.isnull().mean().sort_values(ascending=False) #17.68 for many\n",
    "print(\"Missing values (%):\\n\", missing_percent * 100)\n",
    "\n",
    "print(\"\\n=== Missing Values ===\")\n",
    "missing = df.isna().sum()\n",
    "print(missing[missing > 0].sort_values(ascending=False))"
   ]
  },
  {
   "cell_type": "code",
   "execution_count": 13,
   "id": "68f2472a-dcf6-42db-8c4d-1a87084a78b8",
   "metadata": {},
   "outputs": [],
   "source": [
    "# defining minimum coverage\n",
    "\n",
    "# define core predictors\n",
    "core_predictors = ['unemployment', 'hdi', 'infant_mort', 'wgi', 'gdp']\n",
    "\n",
    "# count missing per country\n",
    "country_counts = df.groupby('country')['homicide_ratio'].count()\n",
    "\n",
    "# % of non-missing values for predictors per country\n",
    "coverage = df.groupby('country')[core_predictors].apply(lambda x: x.notna().mean())\n",
    "\n",
    "# combine for filtering\n",
    "summary = coverage.copy()\n",
    "summary['n_obs'] = country_counts\n",
    "\n",
    "# at least 8 years of data and at least 60% predictor coverage\n",
    "min_years = 8\n",
    "min_avg_coverage = 0.6\n",
    "\n",
    "filtered_countries = summary[\n",
    "    (summary['n_obs'] >= min_years) & \n",
    "    (summary[core_predictors].mean(axis=1) >= min_avg_coverage)\n",
    "].index.tolist()\n",
    "\n",
    "# filter df\n",
    "df_filtered = df[df['country'].isin(filtered_countries)]"
   ]
  },
  {
   "cell_type": "code",
   "execution_count": 14,
   "id": "d42af920-2a80-43df-8fd9-ccf227571dcb",
   "metadata": {},
   "outputs": [
    {
     "name": "stdout",
     "output_type": "stream",
     "text": [
      "198\n",
      "146\n"
     ]
    }
   ],
   "source": [
    "# check change in dataset size\n",
    "print(df['country'].nunique())\n",
    "print(df_filtered['country'].nunique())"
   ]
  },
  {
   "cell_type": "code",
   "execution_count": 15,
   "id": "4fd3a2fd-7da7-4d3c-a7a8-7a9f20db557b",
   "metadata": {},
   "outputs": [
    {
     "name": "stdout",
     "output_type": "stream",
     "text": [
      "Countries with high missingness (>10%):\n",
      "country\n",
      "Puerto Rico                                       0.250000\n",
      "Andorra                                           0.166667\n",
      "China, Hong Kong Special Administrative Region    0.166667\n",
      "Venezuela (Bolivarian Republic of)                0.166667\n",
      "Antigua and Barbuda                               0.158333\n",
      "Saint Kitts and Nevis                             0.145833\n",
      "Kiribati                                          0.143939\n",
      "Saint Vincent and the Grenadines                  0.113636\n"
     ]
    }
   ],
   "source": [
    "# missing values by country\n",
    "missing_by_country = df_filtered.groupby(\"country\").apply(lambda x: x.isna().mean().mean())\n",
    "missing_by_country = missing_by_country[missing_by_country > 0.1]  # countries with >10% missing\n",
    "\n",
    "print(\"Countries with high missingness (>10%):\")\n",
    "print(missing_by_country.sort_values(ascending=False).to_string())"
   ]
  },
  {
   "cell_type": "code",
   "execution_count": 16,
   "id": "dd3abc85-5272-4882-8a74-f8195301018a",
   "metadata": {},
   "outputs": [
    {
     "name": "stdout",
     "output_type": "stream",
     "text": [
      "=== Dataset Structure ===\n",
      "Total rows: 3057\n",
      "Columns (12):\n",
      "['year', 'country', 'code', 'region', 'homicide_index', 'homicide_ratio', 'hdi', 'hdi_class', 'gdp', 'infant_mort', 'unemployment', 'wgi']\n",
      "\n",
      "Data types:\n",
      "float64    7\n",
      "object     4\n",
      "int64      1\n",
      "Name: count, dtype: int64\n"
     ]
    }
   ],
   "source": [
    "# check current dataset\n",
    "print(\"=== Dataset Structure ===\")\n",
    "print(f\"Total rows: {len(df_filtered)}\")\n",
    "print(f\"Columns ({len(df_filtered.columns)}):\\n{df_filtered.columns.tolist()}\")\n",
    "print(\"\\nData types:\")\n",
    "print(df_filtered.dtypes.value_counts())"
   ]
  },
  {
   "cell_type": "code",
   "execution_count": 17,
   "id": "a472edfe-59e3-4664-b942-f3fb5884a418",
   "metadata": {},
   "outputs": [
    {
     "name": "stdout",
     "output_type": "stream",
     "text": [
      "\n",
      "=== Missing Values ===\n",
      "unemployment    479\n",
      "hdi              93\n",
      "hdi_class        93\n",
      "infant_mort      54\n",
      "wgi              46\n",
      "gdp              26\n",
      "dtype: int64\n"
     ]
    }
   ],
   "source": [
    "#check remaining missigness\n",
    "print(\"\\n=== Missing Values ===\")\n",
    "missing = df_filtered.isna().sum()\n",
    "print(missing[missing > 0].sort_values(ascending=False))"
   ]
  },
  {
   "cell_type": "markdown",
   "id": "29d88e14-992f-4c97-b41e-50af147e12a7",
   "metadata": {},
   "source": [
    "## Missingness of each variable"
   ]
  },
  {
   "cell_type": "code",
   "execution_count": 19,
   "id": "8073430c-fa06-4cac-8885-d87cab28e2df",
   "metadata": {},
   "outputs": [
    {
     "name": "stdout",
     "output_type": "stream",
     "text": [
      "country\n",
      "Puerto Rico                         1.000000\n",
      "Bhutan                              0.583333\n",
      "Turkmenistan                        0.529412\n",
      "Antigua and Barbuda                 0.450000\n",
      "Saint Kitts and Nevis               0.375000\n",
      "Kiribati                            0.363636\n",
      "Georgia                             0.222222\n",
      "Suriname                            0.210526\n",
      "Uzbekistan                          0.200000\n",
      "Saint Vincent and the Grenadines    0.181818\n",
      "Dominica                            0.086957\n",
      "Grenada                             0.086957\n",
      "Montenegro                          0.058824\n",
      "Philippines                         0.000000\n",
      "Poland                              0.000000\n",
      "Name: hdi, dtype: float64\n"
     ]
    }
   ],
   "source": [
    "missing_by_country = df_filtered.groupby(\"country\")[\"hdi\"].apply(lambda x: x.isna().mean()).sort_values(ascending=False)\n",
    "print(missing_by_country.head(15))"
   ]
  },
  {
   "cell_type": "code",
   "execution_count": 20,
   "id": "070b9207-9d80-4b6e-98fe-ce4b978430af",
   "metadata": {},
   "outputs": [
    {
     "name": "stdout",
     "output_type": "stream",
     "text": [
      "country\n",
      "Puerto Rico                                       1.0\n",
      "China, Hong Kong Special Administrative Region    1.0\n",
      "Afghanistan                                       0.0\n",
      "Qatar                                             0.0\n",
      "Paraguay                                          0.0\n",
      "Peru                                              0.0\n",
      "Philippines                                       0.0\n",
      "Poland                                            0.0\n",
      "Portugal                                          0.0\n",
      "Republic of Korea                                 0.0\n",
      "Panama                                            0.0\n",
      "Republic of Moldova                               0.0\n",
      "Romania                                           0.0\n",
      "Russian Federation                                0.0\n",
      "Rwanda                                            0.0\n",
      "Name: infant_mort, dtype: float64\n"
     ]
    }
   ],
   "source": [
    "missing_by_country = df_filtered.groupby(\"country\")[\"infant_mort\"].apply(lambda x: x.isna().mean()).sort_values(ascending=False)\n",
    "print(missing_by_country.head(15))"
   ]
  },
  {
   "cell_type": "code",
   "execution_count": 21,
   "id": "c7c3a3c0-0d63-44ec-a957-a6de7e115113",
   "metadata": {},
   "outputs": [
    {
     "name": "stdout",
     "output_type": "stream",
     "text": [
      "country\n",
      "Venezuela (Bolivarian Republic of)    1.0000\n",
      "San Marino                            0.0625\n",
      "Puerto Rico                           0.0000\n",
      "Panama                                0.0000\n",
      "Papua New Guinea                      0.0000\n",
      "Paraguay                              0.0000\n",
      "Peru                                  0.0000\n",
      "Philippines                           0.0000\n",
      "Poland                                0.0000\n",
      "Portugal                              0.0000\n",
      "Qatar                                 0.0000\n",
      "Oman                                  0.0000\n",
      "Republic of Korea                     0.0000\n",
      "Republic of Moldova                   0.0000\n",
      "Romania                               0.0000\n",
      "Name: gdp, dtype: float64\n"
     ]
    }
   ],
   "source": [
    "missing_by_country = df_filtered.groupby(\"country\")[\"gdp\"].apply(lambda x: x.isna().mean()).sort_values(ascending=False)\n",
    "print(missing_by_country.head(15)) "
   ]
  },
  {
   "cell_type": "code",
   "execution_count": 22,
   "id": "09c74335-f40c-4f66-926d-07b91c189cc8",
   "metadata": {},
   "outputs": [
    {
     "name": "stdout",
     "output_type": "stream",
     "text": [
      "country\n",
      "Timor-Leste            1.0\n",
      "Andorra                1.0\n",
      "Romania                1.0\n",
      "Portugal               0.0\n",
      "Panama                 0.0\n",
      "Papua New Guinea       0.0\n",
      "Paraguay               0.0\n",
      "Peru                   0.0\n",
      "Philippines            0.0\n",
      "Poland                 0.0\n",
      "Afghanistan            0.0\n",
      "Puerto Rico            0.0\n",
      "Pakistan               0.0\n",
      "Republic of Korea      0.0\n",
      "Republic of Moldova    0.0\n",
      "Name: wgi, dtype: float64\n"
     ]
    }
   ],
   "source": [
    "missing_by_country = df_filtered.groupby(\"country\")[\"wgi\"].apply(lambda x: x.isna().mean()).sort_values(ascending=False)\n",
    "print(missing_by_country.head(15))"
   ]
  },
  {
   "cell_type": "code",
   "execution_count": 23,
   "id": "ddaa737f-4717-4fe2-8d15-304d2baa88ff",
   "metadata": {},
   "outputs": [
    {
     "name": "stdout",
     "output_type": "stream",
     "text": [
      "country\n",
      "Netherlands (Kingdom of the)                      1.0\n",
      "Republic of Moldova                               1.0\n",
      "Slovakia                                          1.0\n",
      "Dominica                                          1.0\n",
      "Republic of Korea                                 1.0\n",
      "Seychelles                                        1.0\n",
      "Kiribati                                          1.0\n",
      "Egypt                                             1.0\n",
      "Tuvalu                                            1.0\n",
      "Bolivia (Plurinational State of)                  1.0\n",
      "Türkiye                                           1.0\n",
      "Grenada                                           1.0\n",
      "China, Hong Kong Special Administrative Region    1.0\n",
      "United Republic of Tanzania                       1.0\n",
      "Saint Lucia                                       1.0\n",
      "Saint Kitts and Nevis                             1.0\n",
      "Andorra                                           1.0\n",
      "Antigua and Barbuda                               1.0\n",
      "United States of America                          1.0\n",
      "Yemen                                             1.0\n",
      "Venezuela (Bolivarian Republic of)                1.0\n",
      "Saint Vincent and the Grenadines                  1.0\n",
      "San Marino                                        1.0\n",
      "Bahamas                                           1.0\n",
      "Qatar                                             0.0\n",
      "Philippines                                       0.0\n",
      "Puerto Rico                                       0.0\n",
      "Portugal                                          0.0\n",
      "Poland                                            0.0\n",
      "Afghanistan                                       0.0\n",
      "Name: unemployment, dtype: float64\n"
     ]
    }
   ],
   "source": [
    "missing_by_country = df_filtered.groupby(\"country\")[\"unemployment\"].apply(lambda x: x.isna().mean()).sort_values(ascending=False)\n",
    "print(missing_by_country.head(30))"
   ]
  },
  {
   "cell_type": "markdown",
   "id": "6f6e4c04-6a80-4d59-919f-bcac54ec41c0",
   "metadata": {},
   "source": [
    "unemployment: no data for 24 countries\n",
    "\n",
    "WGI: no data Andorra, Romania, Timor-Leste  \n",
    "\n",
    "poverty: no data Puerto Rico, Hong Kong\n",
    "\n",
    "hdi: no data Puerto Rico\n",
    "\n",
    "gdp: no data Venezuela \n"
   ]
  },
  {
   "cell_type": "markdown",
   "id": "ef4f7970-12f0-4e0e-b2d2-774601887a2b",
   "metadata": {},
   "source": [
    "## Imputation"
   ]
  },
  {
   "cell_type": "code",
   "execution_count": 26,
   "id": "f7a86ec6-aab1-4f0e-ba1f-d8ecdee9c4fa",
   "metadata": {},
   "outputs": [],
   "source": [
    "# subregion-level imputation for all countries\n",
    "predictors = ['hdi', 'infant_mort', 'gdp', 'unemployment', 'wgi']\n",
    "\n",
    "for var in predictors:\n",
    "    df_filtered.loc[:, var] = pd.to_numeric(df_filtered[var], errors='coerce')\n",
    "    df_filtered.loc[:, var] = df_filtered.groupby(['region', 'year'])[var].transform(\n",
    "        lambda x: x.fillna(x.mean())\n",
    "    )"
   ]
  },
  {
   "cell_type": "code",
   "execution_count": 27,
   "id": "77dcdb6e-2118-4297-af0f-b369e27f30cd",
   "metadata": {},
   "outputs": [
    {
     "name": "stdout",
     "output_type": "stream",
     "text": [
      "hdi_class       93\n",
      "unemployment    11\n",
      "hdi              4\n",
      "dtype: int64\n"
     ]
    }
   ],
   "source": [
    "# check remaining missingess\n",
    "na_summary = df_filtered.isna().sum().sort_values(ascending=False)\n",
    "print(na_summary[na_summary > 0])"
   ]
  },
  {
   "cell_type": "code",
   "execution_count": 28,
   "id": "f9e0ac96-292a-42c6-879f-54d1f521396f",
   "metadata": {},
   "outputs": [],
   "source": [
    "# replace Kiribati missing varieables with average of all Oceania countries\n",
    "df_filtered.loc[df_filtered['country'] == 'Kiribati', 'unemployment'] = (\n",
    "    df_filtered[df_filtered['region'].isin(['Melanesia', 'Polynesia', 'Micronesia'])].groupby('year')['unemployment'].transform('mean')\n",
    ")\n",
    "\n",
    "df_filtered.loc[df_filtered['country'] == 'Kiribati', 'hdi'] = (\n",
    "    df_filtered[df_filtered['region'].isin(['Melanesia', 'Polynesia', 'Micronesia'])].groupby('year')['hdi'].transform('mean')\n",
    ")"
   ]
  },
  {
   "cell_type": "code",
   "execution_count": 29,
   "id": "7dd18f22-96a2-4fea-aad4-fc58267050cc",
   "metadata": {},
   "outputs": [
    {
     "name": "stdout",
     "output_type": "stream",
     "text": [
      "hdi_class    93\n",
      "dtype: int64\n"
     ]
    }
   ],
   "source": [
    "# check missingness again\n",
    "na_summary = df_filtered.isna().sum().sort_values(ascending=False)\n",
    "print(na_summary[na_summary > 0])"
   ]
  },
  {
   "cell_type": "code",
   "execution_count": 30,
   "id": "94166677-0b54-435d-b777-62682d67ec8f",
   "metadata": {},
   "outputs": [
    {
     "name": "stdout",
     "output_type": "stream",
     "text": [
      "\n",
      "Country count: 146\n"
     ]
    }
   ],
   "source": [
    "# check if any countries were lost \n",
    "print(\"\\nCountry count:\", df_filtered['country'].nunique())"
   ]
  },
  {
   "cell_type": "code",
   "execution_count": 31,
   "id": "749065fe-7ec3-4b0e-aeb1-a18dc01ca7e1",
   "metadata": {},
   "outputs": [],
   "source": [
    "#save as dataset to work with now\n",
    "df_filtered.to_csv(\"dissertation_dataset.csv\", index=False)\n"
   ]
  }
 ],
 "metadata": {
  "kernelspec": {
   "display_name": "Python [conda env:base] *",
   "language": "python",
   "name": "conda-base-py"
  },
  "language_info": {
   "codemirror_mode": {
    "name": "ipython",
    "version": 3
   },
   "file_extension": ".py",
   "mimetype": "text/x-python",
   "name": "python",
   "nbconvert_exporter": "python",
   "pygments_lexer": "ipython3",
   "version": "3.12.7"
  }
 },
 "nbformat": 4,
 "nbformat_minor": 5
}
