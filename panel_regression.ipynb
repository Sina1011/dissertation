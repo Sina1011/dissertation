{
 "cells": [
  {
   "cell_type": "markdown",
   "id": "8852a4cb-9ef6-47f2-8b0c-338b44a600be",
   "metadata": {},
   "source": [
    "# Panel Regression"
   ]
  },
  {
   "cell_type": "markdown",
   "id": "27ae716c-e939-421a-91ca-63fd4c1f2c56",
   "metadata": {},
   "source": [
    "## Preparation and Checks"
   ]
  },
  {
   "cell_type": "code",
   "execution_count": 4,
   "id": "08483301-80d1-48fa-bfc5-c5860e57b164",
   "metadata": {},
   "outputs": [],
   "source": [
    "# load libraries\n",
    "import pandas as pd\n",
    "import numpy as np\n",
    "import statsmodels.api as sm\n",
    "from statsmodels.stats.outliers_influence import variance_inflation_factor\n",
    "from linearmodels.panel import PanelOLS\n",
    "from sklearn.preprocessing import StandardScaler\n",
    "from sklearn.metrics import mean_squared_error, mean_absolute_error"
   ]
  },
  {
   "cell_type": "code",
   "execution_count": 6,
   "id": "b91ba9bf-1f34-4277-831b-d7da9c1d1407",
   "metadata": {},
   "outputs": [],
   "source": [
    "# load data\n",
    "data = pd.read_csv(\"dissertation_dataset.csv\")"
   ]
  },
  {
   "cell_type": "code",
   "execution_count": 8,
   "id": "454faba3-9a7e-4be0-83ef-3d37681c22b4",
   "metadata": {},
   "outputs": [
    {
     "name": "stdout",
     "output_type": "stream",
     "text": [
      "Variance Inflation Factors:\n",
      "        Variable       VIF\n",
      "0           hdi  7.267018\n",
      "1           wgi  2.407617\n",
      "2      gdp_lag1  1.056889\n",
      "3   infant_mort  4.859501\n",
      "4  unemployment  1.013667\n"
     ]
    }
   ],
   "source": [
    "# add lag for GDP \n",
    "data['gdp_lag1'] = data.groupby('country')['gdp'].shift(1)\n",
    "\n",
    "#define X\n",
    "X_vars = ['hdi', 'wgi', 'gdp_lag1', 'infant_mort', 'unemployment']\n",
    "\n",
    "# define y (logged due to distribution\n",
    "data['log_homicide'] = np.log1p(data['homicide_ratio'])\n",
    "y_var = 'log_homicide'\n",
    "\n",
    "# drop NAs\n",
    "data = data.dropna(subset=[y_var] + X_vars)\n",
    "\n",
    "# standardize variables for better VIF interpretation\n",
    "from sklearn.preprocessing import StandardScaler\n",
    "scaler = StandardScaler()\n",
    "X_standardized = scaler.fit_transform(data[X_vars])\n",
    "X_standardized = pd.DataFrame(X_standardized, columns=X_vars)\n",
    "\n",
    "# check multicollinearity\n",
    "vif_data = pd.DataFrame()\n",
    "vif_data[\"Variable\"] = X_vars\n",
    "vif_data[\"VIF\"] = [variance_inflation_factor(X_standardized.values, i) \n",
    "                   for i in range(X_standardized.shape[1])]\n",
    "print(\"Variance Inflation Factors:\\n\", vif_data)"
   ]
  },
  {
   "cell_type": "code",
   "execution_count": 10,
   "id": "83a970fd-cc48-42b0-9cea-21e4894b5ce0",
   "metadata": {},
   "outputs": [
    {
     "name": "stdout",
     "output_type": "stream",
     "text": [
      "=== Dataset Structure ===\n",
      "Total rows: 2911\n"
     ]
    }
   ],
   "source": [
    "# check structure\n",
    "print(\"=== Dataset Structure ===\")\n",
    "print(f\"Total rows: {len(data)}\")"
   ]
  },
  {
   "cell_type": "code",
   "execution_count": 12,
   "id": "eb955212-bd63-4f7a-9b4c-aaf701404cb9",
   "metadata": {},
   "outputs": [],
   "source": [
    "data = data.copy()\n",
    "\n",
    "# standardize variables (otherwise issues with GDP)\n",
    "scaler = StandardScaler()\n",
    "data[X_vars] = scaler.fit_transform(data[X_vars])\n",
    "\n",
    "# set country and year as columns again (not otherwise recognized as column names)\n",
    "data = data.reset_index()\n",
    "data = data.set_index(['country', 'year'])"
   ]
  },
  {
   "cell_type": "markdown",
   "id": "d6204ed5-95f3-4907-9371-340a1e8b484b",
   "metadata": {},
   "source": [
    "## Modeling"
   ]
  },
  {
   "cell_type": "code",
   "execution_count": 15,
   "id": "e6022551-fc1f-4ddb-b32c-bf86bf3e802c",
   "metadata": {},
   "outputs": [
    {
     "name": "stdout",
     "output_type": "stream",
     "text": [
      "                          PanelOLS Estimation Summary                           \n",
      "================================================================================\n",
      "Dep. Variable:           log_homicide   R-squared:                        0.0968\n",
      "Estimator:                   PanelOLS   R-squared (Between):              0.0686\n",
      "No. Observations:                2911   R-squared (Within):               0.0705\n",
      "Date:                Mon, Jul 21 2025   R-squared (Overall):              0.0374\n",
      "Time:                        01:46:00   Log-likelihood                   -231.75\n",
      "Cov. Estimator:             Clustered                                           \n",
      "                                        F-statistic:                      58.643\n",
      "Entities:                         146   P-value                           0.0000\n",
      "Avg Obs:                       19.938   Distribution:                  F(5,2735)\n",
      "Min Obs:                       7.0000                                           \n",
      "Max Obs:                       26.000   F-statistic (robust):             8.0704\n",
      "                                        P-value                           0.0000\n",
      "Time periods:                      26   Distribution:                  F(5,2735)\n",
      "Avg Obs:                       111.96                                           \n",
      "Min Obs:                       83.000                                           \n",
      "Max Obs:                       138.00                                           \n",
      "                                                                                \n",
      "                              Parameter Estimates                               \n",
      "================================================================================\n",
      "              Parameter  Std. Err.     T-stat    P-value    Lower CI    Upper CI\n",
      "--------------------------------------------------------------------------------\n",
      "hdi              0.1285     0.1672     0.7685     0.4423     -0.1993      0.4562\n",
      "wgi             -0.4065     0.0830    -4.8978     0.0000     -0.5693     -0.2438\n",
      "gdp_lag1        -0.0319     0.0278    -1.1471     0.2515     -0.0863      0.0226\n",
      "infant_mort      0.0974     0.0626     1.5572     0.1195     -0.0253      0.2201\n",
      "unemployment     0.0835     0.0276     3.0231     0.0025      0.0293      0.1376\n",
      "================================================================================\n",
      "\n",
      "F-test for Poolability: 174.66\n",
      "P-value: 0.0000\n",
      "Distribution: F(170,2735)\n",
      "\n",
      "Included effects: Entity, Time\n"
     ]
    }
   ],
   "source": [
    "# specify variables\n",
    "y = data[y_var]\n",
    "X = data[X_vars]\n",
    "\n",
    "# model with clustered standard errors by country\n",
    "model = PanelOLS(y, X, entity_effects=True, time_effects=True)\n",
    "result = model.fit(cov_type='clustered', cluster_entity=True)\n",
    "print(result.summary)\n"
   ]
  },
  {
   "cell_type": "code",
   "execution_count": 15,
   "id": "f6e994a9-3b41-4499-b84d-4bf4368617f8",
   "metadata": {},
   "outputs": [],
   "source": [
    "# create table \n",
    "# coefficient summary\n",
    "summary_df = result.summary.tables[1]\n",
    "\n",
    "coeffs_df = pd.DataFrame(summary_df.data[1:], columns=summary_df.data[0])\n",
    "\n",
    "coeffs_df.to_csv(\"panel_model_results.csv\", index=False)"
   ]
  }
 ],
 "metadata": {
  "kernelspec": {
   "display_name": "Python [conda env:base] *",
   "language": "python",
   "name": "conda-base-py"
  },
  "language_info": {
   "codemirror_mode": {
    "name": "ipython",
    "version": 3
   },
   "file_extension": ".py",
   "mimetype": "text/x-python",
   "name": "python",
   "nbconvert_exporter": "python",
   "pygments_lexer": "ipython3",
   "version": "3.12.7"
  }
 },
 "nbformat": 4,
 "nbformat_minor": 5
}
